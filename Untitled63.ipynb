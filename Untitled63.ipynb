{
  "nbformat": 4,
  "nbformat_minor": 0,
  "metadata": {
    "colab": {
      "provenance": [],
      "authorship_tag": "ABX9TyPHhJssFxPayYyoKwg8fJIy",
      "include_colab_link": true
    },
    "kernelspec": {
      "name": "python3",
      "display_name": "Python 3"
    },
    "language_info": {
      "name": "python"
    }
  },
  "cells": [
    {
      "cell_type": "markdown",
      "metadata": {
        "id": "view-in-github",
        "colab_type": "text"
      },
      "source": [
        "<a href=\"https://colab.research.google.com/github/JUMAAMOS/Business-Analytics-Python/blob/main/Untitled63.ipynb\" target=\"_parent\"><img src=\"https://colab.research.google.com/assets/colab-badge.svg\" alt=\"Open In Colab\"/></a>"
      ]
    },
    {
      "cell_type": "code",
      "execution_count": null,
      "metadata": {
        "id": "RAFdb2PSlsp4"
      },
      "outputs": [],
      "source": []
    },
    {
      "cell_type": "code",
      "source": [
        "a=60\n",
        "b=13\n",
        "\n",
        "print(a&b)"
      ],
      "metadata": {
        "colab": {
          "base_uri": "https://localhost:8080/"
        },
        "id": "fkDm5KAFlxG_",
        "outputId": "77e66ed1-aef2-4f1f-feed-c741c9012ceb"
      },
      "execution_count": 3,
      "outputs": [
        {
          "output_type": "stream",
          "name": "stdout",
          "text": [
            "12\n"
          ]
        }
      ]
    },
    {
      "cell_type": "code",
      "source": [
        "print(a/b)"
      ],
      "metadata": {
        "colab": {
          "base_uri": "https://localhost:8080/"
        },
        "id": "-5s206q7mhQb",
        "outputId": "299cc1de-13a7-4580-f792-f77ea3f12144"
      },
      "execution_count": 4,
      "outputs": [
        {
          "output_type": "stream",
          "name": "stdout",
          "text": [
            "4.615384615384615\n"
          ]
        }
      ]
    },
    {
      "cell_type": "code",
      "source": [
        "print(a|b)"
      ],
      "metadata": {
        "colab": {
          "base_uri": "https://localhost:8080/"
        },
        "id": "_otwnAeZoSb6",
        "outputId": "5c2f210a-97de-4466-ea4b-9b87b881fe37"
      },
      "execution_count": 5,
      "outputs": [
        {
          "output_type": "stream",
          "name": "stdout",
          "text": [
            "61\n"
          ]
        }
      ]
    },
    {
      "cell_type": "code",
      "source": [
        "x=[1,1,0,0]\n",
        "y=[1,0,1,0]\n",
        "print(x,y,x and y, x or y, not x, not y)"
      ],
      "metadata": {
        "colab": {
          "base_uri": "https://localhost:8080/"
        },
        "id": "GRG67vysoSZV",
        "outputId": "3f1eb3b5-f074-4d2e-f45e-39059c4495a4"
      },
      "execution_count": 9,
      "outputs": [
        {
          "output_type": "stream",
          "name": "stdout",
          "text": [
            "[1, 1, 0, 0] [1, 0, 1, 0] [1, 0, 1, 0] [1, 1, 0, 0] False False\n"
          ]
        }
      ]
    },
    {
      "cell_type": "code",
      "source": [
        "x=5\n",
        "print(type(x))"
      ],
      "metadata": {
        "colab": {
          "base_uri": "https://localhost:8080/"
        },
        "id": "3TwPNrDkqLfj",
        "outputId": "4451d4b7-2a97-46c2-d8d3-363c9265faea"
      },
      "execution_count": 11,
      "outputs": [
        {
          "output_type": "stream",
          "name": "stdout",
          "text": [
            "<class 'int'>\n"
          ]
        }
      ]
    },
    {
      "cell_type": "code",
      "source": [
        "a=10\n",
        "b=5\n",
        "temp=a\n",
        "a=b\n",
        "b=temp\n",
        "print(a)"
      ],
      "metadata": {
        "colab": {
          "base_uri": "https://localhost:8080/"
        },
        "id": "zEJF4oNfqgjQ",
        "outputId": "ee2b8efa-28f0-4b68-b82a-4c21a215a053"
      },
      "execution_count": 12,
      "outputs": [
        {
          "output_type": "stream",
          "name": "stdout",
          "text": [
            "5\n"
          ]
        }
      ]
    },
    {
      "cell_type": "code",
      "source": [
        "a=a+b\n",
        "b=a-b\n",
        "a=a-b\n",
        "var1=\"hello world\"\n",
        "\n",
        "var2=\"python programming\"\n",
        "print(\"var1[0]: \", var1[0])"
      ],
      "metadata": {
        "colab": {
          "base_uri": "https://localhost:8080/"
        },
        "id": "jQUqLJMwrMZv",
        "outputId": "0371d5b5-1edd-4444-e2f2-ec5cb7537657"
      },
      "execution_count": 14,
      "outputs": [
        {
          "output_type": "stream",
          "name": "stdout",
          "text": [
            "var1[0]:  h\n"
          ]
        }
      ]
    },
    {
      "cell_type": "code",
      "source": [
        "print(\"var2[1:5] \", var2[1:5])"
      ],
      "metadata": {
        "colab": {
          "base_uri": "https://localhost:8080/"
        },
        "id": "iPhn74BHtd7C",
        "outputId": "e27b07bc-5634-4e14-c91a-a681a37c6538"
      },
      "execution_count": 15,
      "outputs": [
        {
          "output_type": "stream",
          "name": "stdout",
          "text": [
            "var2[1:5]  ytho\n"
          ]
        }
      ]
    },
    {
      "cell_type": "code",
      "source": [
        "print(\"Updated String :-\", var1[1:6]+'Python')"
      ],
      "metadata": {
        "colab": {
          "base_uri": "https://localhost:8080/"
        },
        "id": "9s7q49kZuFLh",
        "outputId": "5f7041e1-0d22-4679-fa85-4650a2b80c94"
      },
      "execution_count": 16,
      "outputs": [
        {
          "output_type": "stream",
          "name": "stdout",
          "text": [
            "Updated String :- ello Python\n"
          ]
        }
      ]
    }
  ]
}